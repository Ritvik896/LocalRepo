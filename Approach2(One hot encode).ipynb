{
 "cells": [
  {
   "cell_type": "code",
   "execution_count": 1,
   "id": "34938461-d1fd-4014-b8f3-cfb4c6417505",
   "metadata": {},
   "outputs": [],
   "source": [
    "import numpy as np\n",
    "import pandas as pd\n",
    "import matplotlib.pyplot as plt\n",
    "from sklearn.linear_model import LogisticRegression\n",
    "from sklearn.model_selection import train_test_split\n",
    "from sklearn.metrics import f1_score\n"
   ]
  },
  {
   "cell_type": "code",
   "execution_count": 2,
   "id": "e0c4081a-f6a4-4fad-bdf2-f6a959389c0d",
   "metadata": {},
   "outputs": [],
   "source": [
    "df = pd.read_csv('final_dataset.csv')"
   ]
  },
  {
   "cell_type": "code",
   "execution_count": 3,
   "id": "aa4c3fed-e8c6-41d6-9a93-8de29fea9631",
   "metadata": {},
   "outputs": [],
   "source": [
    "df = df.drop('policy_id', axis=1)"
   ]
  },
  {
   "cell_type": "code",
   "execution_count": 4,
   "id": "3898086d-624c-4c51-8b1a-4eab6b2d2b66",
   "metadata": {},
   "outputs": [
    {
     "name": "stdout",
     "output_type": "stream",
     "text": [
      "<class 'pandas.core.frame.DataFrame'>\n",
      "RangeIndex: 58515 entries, 0 to 58514\n",
      "Data columns (total 43 columns):\n",
      " #   Column                            Non-Null Count  Dtype  \n",
      "---  ------                            --------------  -----  \n",
      " 0   policy_tenure                     58515 non-null  float64\n",
      " 1   age_of_car                        58515 non-null  float64\n",
      " 2   age_of_policyholder               58515 non-null  float64\n",
      " 3   area_cluster                      58515 non-null  object \n",
      " 4   population_density                58515 non-null  int64  \n",
      " 5   make                              58515 non-null  int64  \n",
      " 6   segment                           58515 non-null  object \n",
      " 7   model                             58515 non-null  object \n",
      " 8   fuel_type                         58515 non-null  object \n",
      " 9   max_torque                        58515 non-null  object \n",
      " 10  max_power                         58515 non-null  object \n",
      " 11  engine_type                       58515 non-null  object \n",
      " 12  airbags                           58515 non-null  int64  \n",
      " 13  is_esc                            58515 non-null  object \n",
      " 14  is_adjustable_steering            58515 non-null  object \n",
      " 15  is_tpms                           58515 non-null  object \n",
      " 16  is_parking_sensors                58515 non-null  object \n",
      " 17  is_parking_camera                 58515 non-null  object \n",
      " 18  rear_brakes_type                  58515 non-null  object \n",
      " 19  displacement                      58515 non-null  int64  \n",
      " 20  cylinder                          58515 non-null  int64  \n",
      " 21  transmission_type                 58515 non-null  object \n",
      " 22  gear_box                          58515 non-null  int64  \n",
      " 23  steering_type                     58515 non-null  object \n",
      " 24  turning_radius                    58515 non-null  float64\n",
      " 25  length                            58515 non-null  int64  \n",
      " 26  width                             58515 non-null  int64  \n",
      " 27  height                            58515 non-null  int64  \n",
      " 28  gross_weight                      58515 non-null  int64  \n",
      " 29  is_front_fog_lights               58515 non-null  object \n",
      " 30  is_rear_window_wiper              58515 non-null  object \n",
      " 31  is_rear_window_washer             58515 non-null  object \n",
      " 32  is_rear_window_defogger           58515 non-null  object \n",
      " 33  is_brake_assist                   58515 non-null  object \n",
      " 34  is_power_door_locks               58515 non-null  object \n",
      " 35  is_central_locking                58515 non-null  object \n",
      " 36  is_power_steering                 58515 non-null  object \n",
      " 37  is_driver_seat_height_adjustable  58515 non-null  object \n",
      " 38  is_day_night_rear_view_mirror     58515 non-null  object \n",
      " 39  is_ecw                            58515 non-null  object \n",
      " 40  is_speed_alert                    58515 non-null  object \n",
      " 41  ncap_rating                       58515 non-null  int64  \n",
      " 42  is_claim                          58515 non-null  int64  \n",
      "dtypes: float64(4), int64(12), object(27)\n",
      "memory usage: 19.2+ MB\n"
     ]
    }
   ],
   "source": [
    "df.info()"
   ]
  },
  {
   "cell_type": "code",
   "execution_count": 9,
   "id": "46da7ded-be35-4df6-a9db-353e44f94c1b",
   "metadata": {},
   "outputs": [],
   "source": [
    "int_columns = df.select_dtypes(include=['int64']).columns\n",
    "\n",
    "# Create a new DataFrame with only integer columns\n",
    "df_int = df[int_columns]"
   ]
  },
  {
   "cell_type": "code",
   "execution_count": 6,
   "id": "a941d93b-218f-4bd7-ac8b-256ed55c2921",
   "metadata": {},
   "outputs": [
    {
     "data": {
      "text/plain": [
       "pandas.core.indexes.base.Index"
      ]
     },
     "execution_count": 6,
     "metadata": {},
     "output_type": "execute_result"
    }
   ],
   "source": [
    "import seaborn as sns\n",
    "\n",
    "df_int = df_int.corr()\n"
   ]
  },
  {
   "cell_type": "code",
   "execution_count": null,
   "id": "4ac5f4e7-94e3-4585-a7f3-f347d070db0e",
   "metadata": {},
   "outputs": [],
   "source": []
  }
 ],
 "metadata": {
  "kernelspec": {
   "display_name": "Python 3 (ipykernel)",
   "language": "python",
   "name": "python3"
  },
  "language_info": {
   "codemirror_mode": {
    "name": "ipython",
    "version": 3
   },
   "file_extension": ".py",
   "mimetype": "text/x-python",
   "name": "python",
   "nbconvert_exporter": "python",
   "pygments_lexer": "ipython3",
   "version": "3.11.7"
  }
 },
 "nbformat": 4,
 "nbformat_minor": 5
}
